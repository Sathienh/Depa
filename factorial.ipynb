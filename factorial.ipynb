{
  "nbformat": 4,
  "nbformat_minor": 0,
  "metadata": {
    "colab": {
      "provenance": [],
      "collapsed_sections": []
    },
    "kernelspec": {
      "name": "python3",
      "display_name": "Python 3"
    },
    "language_info": {
      "name": "python"
    }
  },
  "cells": [
    {
      "cell_type": "code",
      "execution_count": 5,
      "metadata": {
        "colab": {
          "base_uri": "https://localhost:8080/"
        },
        "id": "_tvyYvQKNMfC",
        "outputId": "c5ce8532-8410-4f16-8bbc-b2f8a17fa77e"
      },
      "outputs": [
        {
          "output_type": "stream",
          "name": "stdout",
          "text": [
            "<class 'str'>\n",
            "<class 'float'>\n",
            "กรุณาป้อนข้อมูล100\n",
            "factorial of 100 is 93326215443944152681699238856266700490715968264381621468592963895217599993229915608941463976156518286253697920827223758251185210916864000000000000000000000000\n"
          ]
        }
      ],
      "source": [
        "x = \"hello\"\n",
        "\n",
        "y = 2.556659874563213333333333333333333333333333333333333333333333\n",
        "\n",
        "print(type(x))\n",
        "print(type(y))\n",
        "\n",
        "n=int(input('กรุณาป้อนข้อมูล'))\n",
        "if (n<0):\n",
        "  raise ValueError(\"ต้องกรอกจำนวนเต็มบวก\")\n",
        "fact = 1\n",
        "for i in range(2,n+1):\n",
        "  fact *= i\n",
        "print('factorial of '+str(n)+' is '+str(fact))\n"
      ]
    }
  ]
}